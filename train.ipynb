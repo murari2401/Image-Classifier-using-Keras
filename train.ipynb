{
 "cells": [
  {
   "cell_type": "code",
   "execution_count": 2,
   "metadata": {},
   "outputs": [
    {
     "name": "stdout",
     "output_type": "stream",
     "text": [
      "Train on 1229 samples, validate on 527 samples\n",
      "Epoch 1/5\n",
      "1229/1229 [==============================] - 5s 4ms/sample - loss: 0.2324 - accuracy: 0.9422 - val_loss: 0.0488 - val_accuracy: 0.9867\n",
      "Epoch 2/5\n",
      "1229/1229 [==============================] - 4s 3ms/sample - loss: 0.0390 - accuracy: 0.9910 - val_loss: 0.0516 - val_accuracy: 0.9867\n",
      "Epoch 3/5\n",
      "1229/1229 [==============================] - 4s 3ms/sample - loss: 0.0073 - accuracy: 0.9984 - val_loss: 0.0511 - val_accuracy: 0.9867\n",
      "Epoch 4/5\n",
      "1229/1229 [==============================] - 4s 3ms/sample - loss: 0.0014 - accuracy: 1.0000 - val_loss: 0.0615 - val_accuracy: 0.9886\n",
      "Epoch 5/5\n",
      "1229/1229 [==============================] - 4s 3ms/sample - loss: 8.4992e-04 - accuracy: 1.0000 - val_loss: 0.0639 - val_accuracy: 0.9886\n"
     ]
    },
    {
     "data": {
      "text/plain": [
       "<tensorflow.python.keras.callbacks.History at 0x193d9268708>"
      ]
     },
     "execution_count": 2,
     "metadata": {},
     "output_type": "execute_result"
    }
   ],
   "source": [
    "import tensorflow as tf\n",
    "from tensorflow.keras.models import Sequential\n",
    "from tensorflow.keras.layers import Dense,Dropout,Activation,Flatten\n",
    "import pickle\n",
    "\n",
    "from tensorflow.keras.layers import Conv2D,MaxPooling2D\n",
    "\n",
    "pickle_in=open(\"b.pickle\",\"rb\")\n",
    "b=pickle.load(pickle_in)\n",
    "\n",
    "pickle_in=open(\"c.pickle\",\"rb\")\n",
    "c=pickle.load(pickle_in)\n",
    "\n",
    "#print(X)\n",
    "\n",
    "\n",
    "\n",
    "b=b/255.0\n",
    "\n",
    "#print(X)\n",
    "\n",
    "model= Sequential()\n",
    "\n",
    "model.add(Conv2D(256,(3,3),input_shape=b.shape[1:]))\n",
    "model.add(Activation('relu'))\n",
    "model.add(MaxPooling2D(pool_size=(2,2)))\n",
    "\n",
    "model.add(Conv2D(256,(3,3)))\n",
    "model.add(Activation('relu'))\n",
    "model.add(MaxPooling2D(pool_size=(2,2)))\n",
    "\n",
    "model.add(Flatten())\n",
    "model.add(Dense(64))\n",
    "\n",
    "\n",
    "\n",
    "\n",
    "model.add(Dense(4))\n",
    "model.add(Activation('softmax'))\n",
    "\n",
    "model.compile(loss='binary_crossentropy',optimizer='adam',metrics=['accuracy'])\n",
    "\n",
    "model.fit(b,c,batch_size=4,epochs=5,validation_split=0.3)\n"
   ]
  },
  {
   "cell_type": "code",
   "execution_count": 3,
   "metadata": {},
   "outputs": [
    {
     "name": "stdout",
     "output_type": "stream",
     "text": [
      "WARNING:tensorflow:From C:\\Users\\MURARI\\anaconda3\\envs\\tf-gpu\\lib\\site-packages\\tensorflow_core\\python\\ops\\resource_variable_ops.py:1786: calling BaseResourceVariable.__init__ (from tensorflow.python.ops.resource_variable_ops) with constraint is deprecated and will be removed in a future version.\n",
      "Instructions for updating:\n",
      "If using Keras pass *_constraint arguments to layers.\n",
      "INFO:tensorflow:Assets written to: Bike_Car.model\\assets\n"
     ]
    }
   ],
   "source": [
    "model.save('Bike_Car.model')"
   ]
  },
  {
   "cell_type": "code",
   "execution_count": null,
   "metadata": {},
   "outputs": [],
   "source": []
  }
 ],
 "metadata": {
  "kernelspec": {
   "display_name": "tf-gpu",
   "language": "python",
   "name": "tf-gpu"
  },
  "language_info": {
   "codemirror_mode": {
    "name": "ipython",
    "version": 3
   },
   "file_extension": ".py",
   "mimetype": "text/x-python",
   "name": "python",
   "nbconvert_exporter": "python",
   "pygments_lexer": "ipython3",
   "version": "3.7.7"
  }
 },
 "nbformat": 4,
 "nbformat_minor": 4
}
